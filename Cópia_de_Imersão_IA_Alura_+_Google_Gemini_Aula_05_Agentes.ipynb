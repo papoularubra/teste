{
  "nbformat": 4,
  "nbformat_minor": 0,
  "metadata": {
    "colab": {
      "provenance": []
    },
    "kernelspec": {
      "name": "python3",
      "display_name": "Python 3"
    },
    "language_info": {
      "name": "python"
    }
  },
  "cells": [
    {
      "cell_type": "code",
      "source": [
        "%pip -q install google-genai"
      ],
      "metadata": {
        "id": "UCCbECexLk_h"
      },
      "execution_count": null,
      "outputs": []
    },
    {
      "cell_type": "code",
      "source": [
        "# Configura a API Key do Google Gemini\n",
        "\n",
        "import os\n",
        "from google.colab import userdata\n",
        "\n",
        "os.environ[\"GOOGLE_API_KEY\"] = userdata.get('GOOGLE_API_KEY')"
      ],
      "metadata": {
        "id": "NfCqHo1tLk8P"
      },
      "execution_count": null,
      "outputs": []
    },
    {
      "cell_type": "code",
      "source": [
        "# Configura o cliente da SDK do Gemini\n",
        "\n",
        "from google import genai\n",
        "\n",
        "client = genai.Client()\n",
        "\n",
        "MODEL_ID = \"gemini-2.0-flash\""
      ],
      "metadata": {
        "id": "bV4w0H5TLk5g"
      },
      "execution_count": null,
      "outputs": []
    },
    {
      "cell_type": "code",
      "source": [
        "# Pergunta ao Gemini uma informação mais recente que seu conhecimento\n",
        "\n",
        "from IPython.display import HTML, Markdown\n",
        "\n",
        "# Perguntar pro modelo quando é a próxima imersão de IA ###############################################\n",
        "resposta = client.models.generate_content(\n",
        "    model=MODEL_ID,\n",
        "    contents='Quando é a próxima Imersão IA com Google Gemini da Alura?',\n",
        ")\n",
        "\n",
        "# Exibe a resposta na tela\n",
        "display(Markdown(f\"Resposta:\\n {resposta.text}\"))"
      ],
      "metadata": {
        "id": "HwVP7Xi34Zuw",
        "colab": {
          "base_uri": "https://localhost:8080/",
          "height": 128
        },
        "outputId": "50b76df4-4dcb-47e2-e606-6b104cb6cfd9"
      },
      "execution_count": null,
      "outputs": [
        {
          "output_type": "display_data",
          "data": {
            "text/plain": [
              "<IPython.core.display.Markdown object>"
            ],
            "text/markdown": "Resposta:\n A Alura não tem uma data fixa para a Imersão IA com Google Gemini. A melhor forma de saber quando a próxima edição será realizada é:\n\n*   **Acompanhar as redes sociais da Alura:** Fique de olho no [Instagram da Alura](https://www.instagram.com/aluraonline/) e no [LinkedIn da Alura](https://www.linkedin.com/company/alura/) para anúncios.\n*   **Verificar a página de artigos da Alura:** Artigos sobre IA e outras tecnologias podem indicar a proximidade de um evento como a Imersão.\n*   **Consultar o site da Alura:** Verifique regularmente o site da Alura.\n\nEssas são as melhores maneiras de se manter atualizado sobre os próximos eventos e cursos da Alura."
          },
          "metadata": {}
        }
      ]
    },
    {
      "cell_type": "code",
      "source": [
        "# Pergunta ao Gemini uma informação utilizando a busca do Google como contexto\n",
        "\n",
        "response = client.models.generate_content(\n",
        "    model=MODEL_ID,\n",
        "    contents='Quando é a próxima Imersão IA com Google Gemini da Alura?',\n",
        "    # Inserir a tool de busca do Google ###############################################\n",
        "config={\"tools\": [{\"google_search\":{}}]})\n",
        "\n",
        "# Exibe a resposta na tela\n",
        "display(Markdown(f\"Resposta:\\n {response.text}\"))"
      ],
      "metadata": {
        "id": "yXaZd7iZ4ftw",
        "colab": {
          "base_uri": "https://localhost:8080/",
          "height": 122
        },
        "outputId": "728a8ef0-45d9-49d5-d0c5-47b1aa7412e9"
      },
      "execution_count": null,
      "outputs": [
        {
          "output_type": "display_data",
          "data": {
            "text/plain": [
              "<IPython.core.display.Markdown object>"
            ],
            "text/markdown": "Resposta:\n A próxima Imersão IA com Google Gemini da Alura acontecerá entre os dias 12 e 16 de maio de 2025. As inscrições estão abertas até o dia 11 de maio de 2025.\n\nA imersão é um curso 100% online e gratuito, voltado para profissionais de todas as áreas, mesmo que não possuam conhecimento prévio em IA. O curso ensinará como utilizar o Google Gemini para criar projetos reais e aplicáveis ao dia a dia. Ao final do curso, os participantes receberão um certificado da Alura e do Google. Os melhores projetos desenvolvidos durante a imersão serão premiados.\n"
          },
          "metadata": {}
        }
      ]
    },
    {
      "cell_type": "code",
      "source": [
        "# Exibe a busca\n",
        "print(f\"Busca realizada: {response.candidates[0].grounding_metadata.web_search_queries}\")\n",
        "# Exibe as URLs nas quais ele se baseou\n",
        "print(f\"Páginas utilizadas na resposta: {', '.join([site.web.title for site in response.candidates[0].grounding_metadata.grounding_chunks])}\")\n",
        "print()\n",
        "display(HTML(response.candidates[0].grounding_metadata.search_entry_point.rendered_content))"
      ],
      "metadata": {
        "id": "xHSNlTd84heJ",
        "colab": {
          "base_uri": "https://localhost:8080/",
          "height": 119
        },
        "outputId": "385029b7-00aa-4a15-a59a-b6baaddc92d9"
      },
      "execution_count": null,
      "outputs": [
        {
          "output_type": "stream",
          "name": "stdout",
          "text": [
            "Busca realizada: ['próxima imersão IA com Google Gemini da Alura', 'Alura Imersão IA Google Gemini']\n",
            "Páginas utilizadas na resposta: tecmundo.com.br, thallesbenicio.com.br, youtube.com, alura.com.br, rodrigostoledo.com, starten.tech\n",
            "\n"
          ]
        },
        {
          "output_type": "display_data",
          "data": {
            "text/plain": [
              "<IPython.core.display.HTML object>"
            ],
            "text/html": [
              "<style>\n",
              ".container {\n",
              "  align-items: center;\n",
              "  border-radius: 8px;\n",
              "  display: flex;\n",
              "  font-family: Google Sans, Roboto, sans-serif;\n",
              "  font-size: 14px;\n",
              "  line-height: 20px;\n",
              "  padding: 8px 12px;\n",
              "}\n",
              ".chip {\n",
              "  display: inline-block;\n",
              "  border: solid 1px;\n",
              "  border-radius: 16px;\n",
              "  min-width: 14px;\n",
              "  padding: 5px 16px;\n",
              "  text-align: center;\n",
              "  user-select: none;\n",
              "  margin: 0 8px;\n",
              "  -webkit-tap-highlight-color: transparent;\n",
              "}\n",
              ".carousel {\n",
              "  overflow: auto;\n",
              "  scrollbar-width: none;\n",
              "  white-space: nowrap;\n",
              "  margin-right: -12px;\n",
              "}\n",
              ".headline {\n",
              "  display: flex;\n",
              "  margin-right: 4px;\n",
              "}\n",
              ".gradient-container {\n",
              "  position: relative;\n",
              "}\n",
              ".gradient {\n",
              "  position: absolute;\n",
              "  transform: translate(3px, -9px);\n",
              "  height: 36px;\n",
              "  width: 9px;\n",
              "}\n",
              "@media (prefers-color-scheme: light) {\n",
              "  .container {\n",
              "    background-color: #fafafa;\n",
              "    box-shadow: 0 0 0 1px #0000000f;\n",
              "  }\n",
              "  .headline-label {\n",
              "    color: #1f1f1f;\n",
              "  }\n",
              "  .chip {\n",
              "    background-color: #ffffff;\n",
              "    border-color: #d2d2d2;\n",
              "    color: #5e5e5e;\n",
              "    text-decoration: none;\n",
              "  }\n",
              "  .chip:hover {\n",
              "    background-color: #f2f2f2;\n",
              "  }\n",
              "  .chip:focus {\n",
              "    background-color: #f2f2f2;\n",
              "  }\n",
              "  .chip:active {\n",
              "    background-color: #d8d8d8;\n",
              "    border-color: #b6b6b6;\n",
              "  }\n",
              "  .logo-dark {\n",
              "    display: none;\n",
              "  }\n",
              "  .gradient {\n",
              "    background: linear-gradient(90deg, #fafafa 15%, #fafafa00 100%);\n",
              "  }\n",
              "}\n",
              "@media (prefers-color-scheme: dark) {\n",
              "  .container {\n",
              "    background-color: #1f1f1f;\n",
              "    box-shadow: 0 0 0 1px #ffffff26;\n",
              "  }\n",
              "  .headline-label {\n",
              "    color: #fff;\n",
              "  }\n",
              "  .chip {\n",
              "    background-color: #2c2c2c;\n",
              "    border-color: #3c4043;\n",
              "    color: #fff;\n",
              "    text-decoration: none;\n",
              "  }\n",
              "  .chip:hover {\n",
              "    background-color: #353536;\n",
              "  }\n",
              "  .chip:focus {\n",
              "    background-color: #353536;\n",
              "  }\n",
              "  .chip:active {\n",
              "    background-color: #464849;\n",
              "    border-color: #53575b;\n",
              "  }\n",
              "  .logo-light {\n",
              "    display: none;\n",
              "  }\n",
              "  .gradient {\n",
              "    background: linear-gradient(90deg, #1f1f1f 15%, #1f1f1f00 100%);\n",
              "  }\n",
              "}\n",
              "</style>\n",
              "<div class=\"container\">\n",
              "  <div class=\"headline\">\n",
              "    <svg class=\"logo-light\" width=\"18\" height=\"18\" viewBox=\"9 9 35 35\" fill=\"none\" xmlns=\"http://www.w3.org/2000/svg\">\n",
              "      <path fill-rule=\"evenodd\" clip-rule=\"evenodd\" d=\"M42.8622 27.0064C42.8622 25.7839 42.7525 24.6084 42.5487 23.4799H26.3109V30.1568H35.5897C35.1821 32.3041 33.9596 34.1222 32.1258 35.3448V39.6864H37.7213C40.9814 36.677 42.8622 32.2571 42.8622 27.0064V27.0064Z\" fill=\"#4285F4\"/>\n",
              "      <path fill-rule=\"evenodd\" clip-rule=\"evenodd\" d=\"M26.3109 43.8555C30.9659 43.8555 34.8687 42.3195 37.7213 39.6863L32.1258 35.3447C30.5898 36.3792 28.6306 37.0061 26.3109 37.0061C21.8282 37.0061 18.0195 33.9811 16.6559 29.906H10.9194V34.3573C13.7563 39.9841 19.5712 43.8555 26.3109 43.8555V43.8555Z\" fill=\"#34A853\"/>\n",
              "      <path fill-rule=\"evenodd\" clip-rule=\"evenodd\" d=\"M16.6559 29.8904C16.3111 28.8559 16.1074 27.7588 16.1074 26.6146C16.1074 25.4704 16.3111 24.3733 16.6559 23.3388V18.8875H10.9194C9.74388 21.2072 9.06992 23.8247 9.06992 26.6146C9.06992 29.4045 9.74388 32.022 10.9194 34.3417L15.3864 30.8621L16.6559 29.8904V29.8904Z\" fill=\"#FBBC05\"/>\n",
              "      <path fill-rule=\"evenodd\" clip-rule=\"evenodd\" d=\"M26.3109 16.2386C28.85 16.2386 31.107 17.1164 32.9095 18.8091L37.8466 13.8719C34.853 11.082 30.9659 9.3736 26.3109 9.3736C19.5712 9.3736 13.7563 13.245 10.9194 18.8875L16.6559 23.3388C18.0195 19.2636 21.8282 16.2386 26.3109 16.2386V16.2386Z\" fill=\"#EA4335\"/>\n",
              "    </svg>\n",
              "    <svg class=\"logo-dark\" width=\"18\" height=\"18\" viewBox=\"0 0 48 48\" xmlns=\"http://www.w3.org/2000/svg\">\n",
              "      <circle cx=\"24\" cy=\"23\" fill=\"#FFF\" r=\"22\"/>\n",
              "      <path d=\"M33.76 34.26c2.75-2.56 4.49-6.37 4.49-11.26 0-.89-.08-1.84-.29-3H24.01v5.99h8.03c-.4 2.02-1.5 3.56-3.07 4.56v.75l3.91 2.97h.88z\" fill=\"#4285F4\"/>\n",
              "      <path d=\"M15.58 25.77A8.845 8.845 0 0 0 24 31.86c1.92 0 3.62-.46 4.97-1.31l4.79 3.71C31.14 36.7 27.65 38 24 38c-5.93 0-11.01-3.4-13.45-8.36l.17-1.01 4.06-2.85h.8z\" fill=\"#34A853\"/>\n",
              "      <path d=\"M15.59 20.21a8.864 8.864 0 0 0 0 5.58l-5.03 3.86c-.98-2-1.53-4.25-1.53-6.64 0-2.39.55-4.64 1.53-6.64l1-.22 3.81 2.98.22 1.08z\" fill=\"#FBBC05\"/>\n",
              "      <path d=\"M24 14.14c2.11 0 4.02.75 5.52 1.98l4.36-4.36C31.22 9.43 27.81 8 24 8c-5.93 0-11.01 3.4-13.45 8.36l5.03 3.85A8.86 8.86 0 0 1 24 14.14z\" fill=\"#EA4335\"/>\n",
              "    </svg>\n",
              "    <div class=\"gradient-container\"><div class=\"gradient\"></div></div>\n",
              "  </div>\n",
              "  <div class=\"carousel\">\n",
              "    <a class=\"chip\" href=\"https://vertexaisearch.cloud.google.com/grounding-api-redirect/AbF9wXFhLMhjzsitEVk2PHPUf1PoFToX7U9sqVKRwySovPpq-yWXGC83THqcYJgYFPGDWVsUUhizScAarNsD7JH0BWVTIjUZ8N4XQ9g8btW8JSiMBNm2LIkKsIc5vhqxP8AnO4DmZCCmrijr0uUbawLL8rBkxekE0Cgy-9_jQQXsVHqYEZMBrf8q8JjFKSnTvdXbmtP7q2sYywdYTBLGRYPMvALElJfMRlMP\">Alura Imersão IA Google Gemini</a>\n",
              "    <a class=\"chip\" href=\"https://vertexaisearch.cloud.google.com/grounding-api-redirect/AbF9wXFNnvQleEXn4oRR4GGtGjynimirjAz9IG9PnWOvsVDSF2on7RfWMbROwlrdABb6DpgLsGfx8zdVOPlTQLTKRS-goMipZsA1PYCh4obQhWV2VtWEa7MMSe2A73CDDrsfsZfBgEutUGv157FH_vWU1LvxX6ZS_FYsRiDYmp3az8tsWXH70Kuddfd9_ntf7_fHlMI785sR_TpCcZTgj6-lP3thfw2e9ZuWlBmtQNa5nz_yBmMhSfro_2uc-dOW\">próxima imersão IA com Google Gemini da Alura</a>\n",
              "  </div>\n",
              "</div>\n"
            ]
          },
          "metadata": {}
        }
      ]
    },
    {
      "cell_type": "code",
      "source": [
        "# Instalar Framework ADK de agentes do Google ################################################\n",
        "%pip -q install google-adk"
      ],
      "metadata": {
        "id": "hvZ3UnPI4jhJ",
        "colab": {
          "base_uri": "https://localhost:8080/"
        },
        "outputId": "9075abc8-27e5-458c-e802-fae41b076577"
      },
      "execution_count": null,
      "outputs": [
        {
          "output_type": "stream",
          "name": "stdout",
          "text": [
            "\u001b[?25l   \u001b[90m━━━━━━━━━━━━━━━━━━━━━━━━━━━━━━━━━━━━━━━━\u001b[0m \u001b[32m0.0/1.2 MB\u001b[0m \u001b[31m?\u001b[0m eta \u001b[36m-:--:--\u001b[0m\r\u001b[2K   \u001b[91m━━━━━━━━━━━━━━━━━━━━━━━━━━━━━━━━━━━━━━━\u001b[0m\u001b[91m╸\u001b[0m \u001b[32m1.2/1.2 MB\u001b[0m \u001b[31m39.2 MB/s\u001b[0m eta \u001b[36m0:00:01\u001b[0m\r\u001b[2K   \u001b[90m━━━━━━━━━━━━━━━━━━━━━━━━━━━━━━━━━━━━━━━━\u001b[0m \u001b[32m1.2/1.2 MB\u001b[0m \u001b[31m25.3 MB/s\u001b[0m eta \u001b[36m0:00:00\u001b[0m\n",
            "\u001b[?25h\u001b[?25l   \u001b[90m━━━━━━━━━━━━━━━━━━━━━━━━━━━━━━━━━━━━━━━━\u001b[0m \u001b[32m0.0/232.1 kB\u001b[0m \u001b[31m?\u001b[0m eta \u001b[36m-:--:--\u001b[0m\r\u001b[2K   \u001b[90m━━━━━━━━━━━━━━━━━━━━━━━━━━━━━━━━━━━━━━━━\u001b[0m \u001b[32m232.1/232.1 kB\u001b[0m \u001b[31m15.2 MB/s\u001b[0m eta \u001b[36m0:00:00\u001b[0m\n",
            "\u001b[?25h\u001b[?25l   \u001b[90m━━━━━━━━━━━━━━━━━━━━━━━━━━━━━━━━━━━━━━━━\u001b[0m \u001b[32m0.0/95.2 kB\u001b[0m \u001b[31m?\u001b[0m eta \u001b[36m-:--:--\u001b[0m\r\u001b[2K   \u001b[90m━━━━━━━━━━━━━━━━━━━━━━━━━━━━━━━━━━━━━━━━\u001b[0m \u001b[32m95.2/95.2 kB\u001b[0m \u001b[31m6.1 MB/s\u001b[0m eta \u001b[36m0:00:00\u001b[0m\n",
            "\u001b[2K   \u001b[90m━━━━━━━━━━━━━━━━━━━━━━━━━━━━━━━━━━━━━━━━\u001b[0m \u001b[32m217.1/217.1 kB\u001b[0m \u001b[31m13.6 MB/s\u001b[0m eta \u001b[36m0:00:00\u001b[0m\n",
            "\u001b[2K   \u001b[90m━━━━━━━━━━━━━━━━━━━━━━━━━━━━━━━━━━━━━━━━\u001b[0m \u001b[32m334.1/334.1 kB\u001b[0m \u001b[31m19.0 MB/s\u001b[0m eta \u001b[36m0:00:00\u001b[0m\n",
            "\u001b[2K   \u001b[90m━━━━━━━━━━━━━━━━━━━━━━━━━━━━━━━━━━━━━━━━\u001b[0m \u001b[32m125.1/125.1 kB\u001b[0m \u001b[31m8.9 MB/s\u001b[0m eta \u001b[36m0:00:00\u001b[0m\n",
            "\u001b[2K   \u001b[90m━━━━━━━━━━━━━━━━━━━━━━━━━━━━━━━━━━━━━━━━\u001b[0m \u001b[32m65.8/65.8 kB\u001b[0m \u001b[31m4.0 MB/s\u001b[0m eta \u001b[36m0:00:00\u001b[0m\n",
            "\u001b[2K   \u001b[90m━━━━━━━━━━━━━━━━━━━━━━━━━━━━━━━━━━━━━━━━\u001b[0m \u001b[32m119.0/119.0 kB\u001b[0m \u001b[31m8.4 MB/s\u001b[0m eta \u001b[36m0:00:00\u001b[0m\n",
            "\u001b[2K   \u001b[90m━━━━━━━━━━━━━━━━━━━━━━━━━━━━━━━━━━━━━━━━\u001b[0m \u001b[32m194.9/194.9 kB\u001b[0m \u001b[31m12.8 MB/s\u001b[0m eta \u001b[36m0:00:00\u001b[0m\n",
            "\u001b[2K   \u001b[90m━━━━━━━━━━━━━━━━━━━━━━━━━━━━━━━━━━━━━━━━\u001b[0m \u001b[32m62.5/62.5 kB\u001b[0m \u001b[31m4.0 MB/s\u001b[0m eta \u001b[36m0:00:00\u001b[0m\n",
            "\u001b[2K   \u001b[90m━━━━━━━━━━━━━━━━━━━━━━━━━━━━━━━━━━━━━━━━\u001b[0m \u001b[32m103.3/103.3 kB\u001b[0m \u001b[31m7.0 MB/s\u001b[0m eta \u001b[36m0:00:00\u001b[0m\n",
            "\u001b[2K   \u001b[90m━━━━━━━━━━━━━━━━━━━━━━━━━━━━━━━━━━━━━━━━\u001b[0m \u001b[32m44.4/44.4 kB\u001b[0m \u001b[31m2.8 MB/s\u001b[0m eta \u001b[36m0:00:00\u001b[0m\n",
            "\u001b[2K   \u001b[90m━━━━━━━━━━━━━━━━━━━━━━━━━━━━━━━━━━━━━━━━\u001b[0m \u001b[32m72.0/72.0 kB\u001b[0m \u001b[31m5.1 MB/s\u001b[0m eta \u001b[36m0:00:00\u001b[0m\n",
            "\u001b[?25h"
          ]
        }
      ]
    },
    {
      "cell_type": "code",
      "execution_count": null,
      "metadata": {
        "id": "aePV2bdfDeoW"
      },
      "outputs": [],
      "source": [
        "from google.adk.agents import Agent\n",
        "from google.adk.runners import Runner\n",
        "from google.adk.sessions import InMemorySessionService\n",
        "from google.adk.tools import google_search\n",
        "from google.genai import types  # Para criar conteúdos (Content e Part)\n",
        "from datetime import date\n",
        "import textwrap # Para formatar melhor a saída de texto\n",
        "from IPython.display import display, Markdown # Para exibir texto formatado no Colab\n",
        "import requests # Para fazer requisições HTTP\n",
        "import warnings\n",
        "\n",
        "warnings.filterwarnings(\"ignore\")"
      ]
    },
    {
      "cell_type": "code",
      "source": [
        "# Função auxiliar que envia uma mensagem para um agente via Runner e retorna a resposta final\n",
        "def call_agent(agent: Agent, message_text: str) -> str:\n",
        "    # Cria um serviço de sessão em memória\n",
        "    session_service = InMemorySessionService()\n",
        "    # Cria uma nova sessão (você pode personalizar os IDs conforme necessário)\n",
        "    session = session_service.create_session(app_name=agent.name, user_id=\"user1\", session_id=\"session1\")\n",
        "    # Cria um Runner para o agente\n",
        "    runner = Runner(agent=agent, app_name=agent.name, session_service=session_service)\n",
        "    # Cria o conteúdo da mensagem de entrada\n",
        "    content = types.Content(role=\"user\", parts=[types.Part(text=message_text)])\n",
        "\n",
        "    final_response = \"\"\n",
        "    # Itera assincronamente pelos eventos retornados durante a execução do agente\n",
        "    for event in runner.run(user_id=\"user1\", session_id=\"session1\", new_message=content):\n",
        "        if event.is_final_response():\n",
        "          for part in event.content.parts:\n",
        "            if part.text is not None:\n",
        "              final_response += part.text\n",
        "              final_response += \"\\n\"\n",
        "    return final_response"
      ],
      "metadata": {
        "id": "_xP4lWhsS5ko"
      },
      "execution_count": null,
      "outputs": []
    },
    {
      "cell_type": "code",
      "source": [
        "# Função auxiliar para exibir texto formatado em Markdown no Colab\n",
        "def to_markdown(text):\n",
        "  text = text.replace('•', '  *')\n",
        "  return Markdown(textwrap.indent(text, '> ', predicate=lambda _: True))"
      ],
      "metadata": {
        "id": "8dosiodaxfFR"
      },
      "execution_count": null,
      "outputs": []
    },
    {
      "cell_type": "code",
      "source": [
        "##########################################\n",
        "# --- Agente 1: Buscador de Notícias --- #\n",
        "##########################################\n",
        "def agente_buscador(topico, data_de_hoje):\n",
        "    buscador = Agent(\n",
        "        name=\"agente_buscador\",\n",
        "        model=\"gemini-2.0-flash\",\n",
        "        instruction=\"\"\"\n",
        "        Você é um assistente de pesquisa. A Sua tarefa é usar a ferramenta de busca do Google (google_search)\n",
        "        para recuperar as últimas notícias de lançamentos muito relevantes sobre o tópico abaixo.\n",
        "        Foque em no máximo 5 lançamentos relevantes, com base na quantidade e entusiasmo das notícias sobre ele.\n",
        "        Se um tema tiver poucas notícias ou reações entusiasmadas, é possível que ele não seja tão relevante assim\n",
        "        e pode ser substituído por outro que tenha mais.\n",
        "        Esses lançamentos relevantes devem ser atuais, de no máximo um mês antes da data de hoje.\n",
        "        \"\"\",\n",
        "        description=\"Agente que busca informações no Google\",\n",
        "        tools=[google_search]\n",
        "        )\n",
        "\n",
        "    entrada_do_agente_buscador = f\"Tópico: {topico}\\nData de hoje: {data_de_hoje}\"\n",
        "\n",
        "    lancamentos_buscados = call_agent(buscador, entrada_do_agente_buscador)\n",
        "    return lancamentos_buscados"
      ],
      "metadata": {
        "id": "o8bqIfi_DyH8"
      },
      "execution_count": null,
      "outputs": []
    },
    {
      "cell_type": "code",
      "source": [
        "################################################\n",
        "# --- Agente 2: Planejador de posts --- #\n",
        "################################################\n",
        "def agente_planejador(topico, lancamentos_buscados):\n",
        "    planejador = Agent(\n",
        "        name=\"agente_planejador\",\n",
        "        model=\"gemini-2.0-flash\",\n",
        "        # Inserir as instruções do Agente Planejador #################################################\n",
        "        instruction=\"\"\"\n",
        "        Você é um planejador de conteúdo, especialista em redes sociais.\n",
        "        Com base na lista de lançamentos mais recentes e relevantes buscados, você deve:\n",
        "        usar a ferramenta de busca do Google (google_search) para criar um plano sobre\n",
        "        quais são os pontos mais relevantes que poderíamos abordar em um post sobre cada um deles.\n",
        "        Você também pode usar o (google_search) para encontrar mais informações sobre os temas e aprofundar.\n",
        "        Ao final, você irá escolher o tema mais relevante entre eles, com base nas suas pesquisas\n",
        "        e retornar esse tema, seus pontos mais relevantes e um plano com os assuntos a serem abordados no post que será escrito posteriormente.\n",
        "        \"\"\",\n",
        "        description=\"Agente que planeja posts\",\n",
        "        tools=[google_search]\n",
        "    )\n",
        "\n",
        "    entrada_do_agente_planejador = f\"Tópico:{topico}\\nLançamentos buscados: {lancamentos_buscados}\"\n",
        "    # Executa o agente\n",
        "    plano_do_post = call_agent(planejador, entrada_do_agente_planejador)\n",
        "    return plano_do_post"
      ],
      "metadata": {
        "id": "y3VO1uo5_ghO"
      },
      "execution_count": null,
      "outputs": []
    },
    {
      "cell_type": "code",
      "source": [
        "######################################\n",
        "# --- Agente 3: Redator do Post --- #\n",
        "######################################\n",
        "def agente_redator(topico, plano_de_post):\n",
        "    redator = Agent(\n",
        "        name=\"agente_redator\",\n",
        "        model=\"gemini-2.0-flash\",\n",
        "        instruction=\"\"\"\n",
        "            Você é um Redator Criativo especializado em criar posts virais para redes sociais.\n",
        "            Você escreve posts para a empresa Alura, a maior escola online de tecnologia do Brasil.\n",
        "            Utilize o tema fornecido no plano de post e os pontos mais relevantes fornecidos e, com base nisso,\n",
        "            escreva um rascunho de post para Instagram sobre o tema indicado.\n",
        "            O post deve ser engajador, informativo, com linguagem simples e incluir 2 a 4 hashtags no final.\n",
        "            \"\"\",\n",
        "        description=\"Agente redator de posts engajadores para Instagram\"\n",
        "    )\n",
        "    entrada_do_agente_redator = f\"Tópico: {topico}\\nPlano de post: {plano_de_post}\"\n",
        "    # Executa o agente\n",
        "    rascunho = call_agent(redator, entrada_do_agente_redator)\n",
        "    return rascunho"
      ],
      "metadata": {
        "id": "uOqlg2TRLVh1"
      },
      "execution_count": null,
      "outputs": []
    },
    {
      "cell_type": "code",
      "source": [
        "##########################################\n",
        "# --- Agente 4: Revisor de Qualidade --- #\n",
        "##########################################\n",
        "def agente_revisor(topico, rascunho_gerado):\n",
        "    revisor = Agent(\n",
        "        name=\"agente_revisor\",\n",
        "        model=\"gemini-2.0-flash\",\n",
        "        instruction=\"\"\"\n",
        "            Você é um Editor e Revisor de Conteúdo meticuloso, especializado em posts para redes sociais, com foco no Instagram.\n",
        "            Por ter um público jovem, entre 18 e 30 anos, use um tom de escrita adequado.\n",
        "            Revise o rascunho de post de Instagram abaixo sobre o tópico indicado, verificando clareza, concisão, correção e tom.\n",
        "            Se o rascunho estiver bom, responda apenas 'O rascunho está ótimo e pronto para publicar!'.\n",
        "            Caso haja problemas, aponte-os e sugira melhorias.\n",
        "            \"\"\",\n",
        "        description=\"Agente revisor de post para redes sociais.\"\n",
        "    )\n",
        "    entrada_do_agente_revisor = f\"Tópico: {topico}\\nRascunho: {rascunho_gerado}\"\n",
        "    # Executa o agente\n",
        "    texto_revisado = call_agent(revisor, entrada_do_agente_revisor)\n",
        "    return texto_revisado"
      ],
      "metadata": {
        "id": "_aTb1SdkLeT6"
      },
      "execution_count": null,
      "outputs": []
    },
    {
      "cell_type": "code",
      "source": [
        "data_de_hoje = date.today().strftime(\"%d/%m/%Y\")\n",
        "\n",
        "print(\"🚀 Iniciando o Sistema de Criação de Posts para Instagram com 4 Agentes 🚀\")\n",
        "\n",
        "# --- Obter o Tópico do Usuário ---\n",
        "topico = input(\"❓ Por favor, digite o TÓPICO sobre o qual você quer criar o post de tendências: \")\n",
        "\n",
        "# Inserir lógica do sistema de agentes ################################################\n",
        "if not topico:\n",
        "  print(\"Você esqueceu de digitar o tópico!\")\n",
        "else:\n",
        "  print(f\"Maravilha! Vamos então criar o post sobre novidades em {topico}\")\n",
        "\n",
        "  lancamentos_buscados = agente_buscador(topico, data_de_hoje)\n",
        "  print(\"\\n--- Resultado do Agente 1 (Buscador) ---\\n\")\n",
        "  display(to_markdown(lancamentos_buscados))\n",
        "  print(\"----------------------------------------------------------------\")\n",
        "\n",
        "  plano_do_post = agente_planejador(topico, lancamentos_buscados)\n",
        "  print(\"\\n--- Resultado do Agente 2 (Planejador) ---\\n\")\n",
        "  display(to_markdown(plano_do_post))\n",
        "  print(\"----------------------------------------------------------------\")\n",
        "\n",
        "  rascunho_de_post = agente_redator(topico, plano_do_post)\n",
        "  print(\"\\n--- Resultado do Agente 3 (Redator) ---\\n\")\n",
        "  display(to_markdown(rascunho_de_post))\n",
        "  print(\"----------------------------------------------------------------\")\n",
        "\n",
        "  post_final = agente_revisor(topico, rascunho_de_post)\n",
        "  print(\"\\n--- Resultado do Agente 4 (Revisor) ---\\n\")\n",
        "  display(to_markdown(post_final))\n",
        "  print(\"----------------------------------------------------------------\")\n",
        "\n",
        "\n",
        "\n",
        "\n",
        "\n"
      ],
      "metadata": {
        "id": "630ummxz4myx",
        "colab": {
          "base_uri": "https://localhost:8080/",
          "height": 1000
        },
        "outputId": "99a8d704-4ad5-474d-e255-a31930e26365"
      },
      "execution_count": null,
      "outputs": [
        {
          "output_type": "stream",
          "name": "stdout",
          "text": [
            "🚀 Iniciando o Sistema de Criação de Posts para Instagram com 4 Agentes 🚀\n",
            "❓ Por favor, digite o TÓPICO sobre o qual você quer criar o post de tendências: Agentes de IA\n",
            "Maravilha! Vamos então criar o post sobre novidades em Agentes de IA\n",
            "\n",
            "--- Resultado do Agente 1 (Buscador) ---\n",
            "\n"
          ]
        },
        {
          "output_type": "display_data",
          "data": {
            "text/plain": [
              "<IPython.core.display.Markdown object>"
            ],
            "text/markdown": "> Aqui estão algumas notícias recentes sobre lançamentos de agentes de IA, com foco em lançamentos relevantes no último mês:\n> \n> \n> Com base nas notícias recentes, aqui estão alguns lançamentos relevantes de agentes de IA, com foco nos últimos meses:\n> \n> 1.  **Agentforce da Salesforce:** A Salesforce está focando em agentes de IA com o Agentforce, uma nova camada em sua plataforma que permite que as empresas criem e implementem agentes de IA que podem agir de forma autônoma em qualquer função de negócios. Esses agentes vão além de chatbots e copilotos, usando habilidades avançadas de raciocínio para tomar decisões e agir, como resolver casos de clientes, qualificar leads de vendas e otimizar campanhas de marketing.\n> 2.  **Atualizações da IBM com o watsonx Orchestrate:** A IBM anunciou atualizações em seu watsonx Orchestrate, oferecendo soluções inovadoras para integrar, personalizar e implementar agentes, além de disponibilizar agentes pré-construídos para áreas como RH, vendas e compras. Esses agentes contam com integração com mais de 80 aplicações empresariais, facilitando a orquestração de projetos complexos.\n> 3.  **Atualizações do Anthropic no agente Claude:** O agente Claude agora pode determinar se uma pesquisa online pode aprimorar a resposta fornecida, garantindo informações atualizadas e com referências diretas às fontes originais.\n> 4.  **Agent.ai:** É uma plataforma que se posiciona como uma rede profissional para agentes de inteligência artificial. A plataforma oferece uma variedade de agentes de IA projetados para atender a diversas necessidades, desde pesquisa de mercado até otimização da conversão de websites.\n> 5.  **Novas Ferramentas e Frameworks para Desenvolvedores:** Ferramentas como Microsoft AutoGen, Phidata, PromptFlow e OpenAI Swarm estão sendo desenvolvidas para oferecer novas ferramentas e capacidades para desenvolvedores e pesquisadores.\n"
          },
          "metadata": {}
        },
        {
          "output_type": "stream",
          "name": "stdout",
          "text": [
            "----------------------------------------------------------------\n",
            "\n",
            "--- Resultado do Agente 2 (Planejador) ---\n",
            "\n"
          ]
        },
        {
          "output_type": "display_data",
          "data": {
            "text/plain": [
              "<IPython.core.display.Markdown object>"
            ],
            "text/markdown": "> Com base nos lançamentos de agentes de IA que você forneceu, vou criar um plano de conteúdo para cada um, identificar o tema mais relevante e, em seguida, elaborar um plano de postagem detalhado para esse tema.\n> \n> **1. Agentforce da Salesforce**\n> \n> *   **Pontos Relevantes:**\n>     *   Capacidade de criar agentes de IA que atuam autonomamente em diversas funções de negócios.\n>     *   Vai além de chatbots, tomando decisões e agindo em tarefas como resolução de casos, qualificação de leads e otimização de campanhas.\n>     *   Foco em habilidades avançadas de raciocínio para a tomada de decisão.\n> *   **Possíveis Títulos:**\n>     *   \"Salesforce Agentforce: A revolução dos agentes de IA autônomos nos negócios\"\n>     *   \"Como o Agentforce da Salesforce está transformando a automação empresarial com IA\"\n> \n> **2. Atualizações da IBM com o watsonx Orchestrate**\n> \n> *   **Pontos Relevantes:**\n>     *   Integração, personalização e implementação de agentes de IA.\n>     *   Agentes pré-construídos para RH, vendas e compras.\n>     *   Integração com mais de 80 aplicações empresariais.\n> *   **Possíveis Títulos:**\n>     *   \"IBM watsonx Orchestrate: A solução completa para orquestrar agentes de IA em sua empresa\"\n>     *   \"Agentes de IA pré-construídos da IBM: Acelere a automação em RH, vendas e compras\"\n> \n> **3. Atualizações do Anthropic no agente Claude**\n> \n> *   **Pontos Relevantes:**\n>     *   Capacidade de determinar se uma pesquisa online pode aprimorar a resposta.\n>     *   Informações atualizadas e com referências diretas às fontes originais.\n> *   **Possíveis Títulos:**\n>     *   \"Anthropic Claude: Agente de IA agora com pesquisa integrada para respostas mais precisas\"\n>     *   \"A evolução do Claude: Como a Anthropic está tornando seu agente de IA ainda mais inteligente\"\n> \n> **4. Agent.ai**\n> \n> *   **Pontos Relevantes:**\n>     *   Plataforma como uma rede profissional para agentes de IA.\n>     *   Variedade de agentes para pesquisa de mercado, otimização de conversão de websites, entre outros.\n> *   **Possíveis Títulos:**\n>     *   \"Agent.ai: A rede profissional para encontrar o agente de IA ideal para o seu negócio\"\n>     *   \"Descubra a Agent.ai: A plataforma que conecta você aos melhores agentes de IA do mercado\"\n> \n> **5. Novas Ferramentas e Frameworks para Desenvolvedores**\n> \n> *   **Pontos Relevantes:**\n>     *   Ferramentas como Microsoft AutoGen, Phidata, PromptFlow e OpenAI Swarm.\n>     *   Novas capacidades para desenvolvedores e pesquisadores.\n> *   **Possíveis Títulos:**\n>     *   \"Microsoft AutoGen, Phidata, PromptFlow, OpenAI Swarm: As ferramentas que todo desenvolvedor de IA precisa conhecer\"\n>     *   \"O futuro do desenvolvimento de IA: Novas ferramentas e frameworks para criar agentes incríveis\"\n> \n> Para identificar o tema mais relevante, vou pesquisar o interesse do público e a discussão em torno de cada um desses lançamentos.\n> \n> \n> Com base na minha pesquisa, o tema mais relevante parece ser **Novas Ferramentas e Frameworks para Desenvolvedores**, especificamente o Microsoft AutoGen, Phidata, PromptFlow e OpenAI Swarm. Há um interesse significativo em ferramentas que auxiliem desenvolvedores a criar e orquestrar agentes de IA.\n> \n> **Tema:** Novas Ferramentas e Frameworks para Desenvolvedores de Agentes de IA (com foco em AutoGen, Phidata, PromptFlow e OpenAI Swarm)\n> \n> **Pontos Relevantes:**\n> \n> *   **Democratização do desenvolvimento de IA:** Essas ferramentas estão tornando mais fácil para desenvolvedores (mesmo aqueles sem profundo conhecimento em IA) criar agentes inteligentes.\n> *   **Multi-agentes:** AutoGen, Phidata e OpenAI Swarm focam na criação de sistemas onde múltiplos agentes podem interagir para resolver tarefas complexas.\n> *   **Aplicações:** Essas ferramentas têm aplicações em diversos setores, desde finanças até atendimento ao cliente.\n> *   **Open Source:** Muitas dessas ferramentas são open source, incentivando a colaboração e a inovação.\n> \n> **Plano de Postagem Detalhado:**\n> \n> *   **Título:** \"Desbloqueando o Poder dos Agentes de IA: Um Guia para Desenvolvedores com AutoGen, Phidata, PromptFlow e OpenAI Swarm\"\n> *   **Introdução:**\n>     *   Explicar o que são agentes de IA e por que eles são importantes.\n>     *   Breve visão geral do cenário atual de ferramentas e frameworks para desenvolvedores de agentes.\n>     *   Apresentar AutoGen, Phidata, PromptFlow e OpenAI Swarm como ferramentas-chave.\n> *   **Microsoft AutoGen:**\n>     *   O que é AutoGen e como ele simplifica a criação de sistemas multi-agentes.\n>     *   Casos de uso: automação de tarefas, resolução de problemas complexos.\n>     *   Como começar a usar AutoGen.\n> *   **Phidata:**\n>     *   O que é Phidata e seu foco em agentes multimodais.\n>     *   Recursos principais: Multi-Agent orchestration, Agentic RAG built-in, Structured outputs.\n>     *   Exemplo de código simples para criar um agente com Phidata.\n> *   **PromptFlow:**\n>     *   O que é PromptFlow e como ele otimiza o ciclo de desenvolvimento de aplicações de IA.\n>     *   Integração com Azure AI Foundry e Azure Machine Learning studio.\n>     *   Casos de uso: Prototipagem, experimentação e implantação de aplicações de IA.\n> *   **OpenAI Swarm:**\n>     *   O que é OpenAI Swarm e como ele facilita a coordenação de múltiplos agentes.\n>     *   Conceitos chave: Agentes e handoffs.\n>     *   Como Swarm se compara a outras ferramentas como LangGraph.\n> *   **Comparação:**\n>     *   Uma tabela comparando os recursos, vantagens e desvantagens de cada ferramenta.\n>     *   Qual ferramenta é mais adequada para qual tipo de projeto.\n> *   **Conclusão:**\n>     *   Reafirmar a importância dessas ferramentas para o futuro do desenvolvimento de IA.\n>     *   Incentivar os desenvolvedores a explorar e experimentar com essas ferramentas.\n>     *   Chamada para ação: compartilhar suas experiências e projetos criados com essas ferramentas.\n> \n> Este plano deve fornecer um guia completo para desenvolvedores interessados em explorar o mundo dos agentes de IA, capacitando-os a criar soluções inovadoras e automatizadas.\n> \n"
          },
          "metadata": {}
        },
        {
          "output_type": "stream",
          "name": "stdout",
          "text": [
            "----------------------------------------------------------------\n",
            "\n",
            "--- Resultado do Agente 3 (Redator) ---\n",
            "\n"
          ]
        },
        {
          "output_type": "display_data",
          "data": {
            "text/plain": [
              "<IPython.core.display.Markdown object>"
            ],
            "text/markdown": "> 🚀 Dando superpoderes aos devs de IA! 🚀\n> \n> Já ouviu falar nos Agentes de IA? 🤖 Eles são a nova fronteira da automação e a Alura te apresenta as ferramentas que vão te colocar na linha de frente dessa revolução!\n> \n> 🔥 AutoGen (Microsoft): Crie sistemas complexos com múltiplos agentes interagindo! Imagine a sinergia!\n> 🛠️ Phidata: Agentes multimodais ao seu alcance! Orquestração multi-agente e RAG integrados para turbinar seus projetos.\n> ✨ PromptFlow: Otimize o desenvolvimento de apps de IA como nunca! Experimente, prototipe e implemente com Azure AI Foundry e Azure Machine Learning Studio.\n> 🤝 OpenAI Swarm: Coordene vários agentes como um maestro! Orquestre tarefas complexas com facilidade.\n> \n> E aí, qual dessas ferramentas te deixou mais curioso(a)? 🤔 Conta pra gente nos comentários e bora dominar o futuro da IA! 🚀\n> \n> #Alura #InteligenciaArtificial #Desenvolvimento #Inovacao\n> \n"
          },
          "metadata": {}
        },
        {
          "output_type": "stream",
          "name": "stdout",
          "text": [
            "----------------------------------------------------------------\n",
            "\n",
            "--- Resultado do Agente 4 (Revisor) ---\n",
            "\n"
          ]
        },
        {
          "output_type": "display_data",
          "data": {
            "text/plain": [
              "<IPython.core.display.Markdown object>"
            ],
            "text/markdown": "> O rascunho está bom, mas podemos deixá-lo ainda melhor para engajar o público jovem do Instagram. Aqui estão algumas sugestões:\n> \n> *   **Emojis:** Usar mais emojis pode deixar o post mais dinâmico e atraente para o público do Instagram.\n> *   **Linguagem:** Tornar a linguagem um pouco mais casual e direta pode ajudar a criar uma conexão maior com os seguidores.\n> *   **Chamada para Ação (CTA):** A CTA pode ser mais direta e focada em gerar interação imediata.\n> *    **Hashtags:** Adicionar hashtags mais específicas pode aumentar a visibilidade do post.\n> \n> **Rascunho revisado:**\n> \n> 🚀 DEU A LOUCA NA IA: AGENTES CHEGARAM PRA DAR SUPERPODERES AOS DEVS! 🚀\n> \n> Já ouviram falar dos Agentes de IA? 🤖 Eles são a nova onda da automação e a Alura tá te mostrando as ferramentas pra você SURFAR nessa revolução! 🌊\n> \n> 🔥 **AutoGen (Microsoft):** Quer criar sistemas complexos? Com ele, vários agentes trabalham JUNTOS! 🤝\n> 🛠️ **Phidata:** Agentes que entendem TUDO! 🤯 Orquestração e RAG integrados pra TURBINAR seus projetos.\n> ✨ **PromptFlow:** Desenvolva apps de IA de forma FÁCIL e RÁPIDA! 💨 Teste, crie e implemente com Azure AI.\n> 🤝 **OpenAI Swarm:** Controle VÁRIOS agentes como um maestro! 🎼 Tarefas complexas? Moleza!\n> \n> E aí, qual dessas ferramentas te deixou mais CURIOSO(A)? 🤔 Conta aqui nos comentários e vamo DOMINAR o futuro da IA! 🚀\n> \n> \\#Alura \\#InteligenciaArtificial \\#AgentesDeIA \\#InovacaoTecnologica \\#DesenvolvimentoDeSoftware \\#Automacao\n> \n> \n"
          },
          "metadata": {}
        },
        {
          "output_type": "stream",
          "name": "stdout",
          "text": [
            "----------------------------------------------------------------\n"
          ]
        }
      ]
    }
  ]
}